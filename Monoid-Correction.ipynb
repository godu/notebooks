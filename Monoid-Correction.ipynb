{
 "cells": [
  {
   "cell_type": "markdown",
   "metadata": {},
   "source": [
    "# Exercice"
   ]
  },
  {
   "cell_type": "code",
   "execution_count": 1,
   "metadata": {},
   "outputs": [],
   "source": [
    "type AnswerAction = { slide: string; correct: bool }\n",
    "type Action =\n",
    "  | AnswerAction of AnswerAction\n",
    "  | SuccessAction\n",
    "  | FailureAction\n",
    "  \n",
    "let successfulProgression = [\n",
    "  AnswerAction({ slide = \"2\"; correct = false})\n",
    "  AnswerAction({ slide = \"3\"; correct = true})\n",
    "  SuccessAction\n",
    "]\n",
    "\n",
    "let failedProgression = [\n",
    "  AnswerAction({ slide = \"2\"; correct = false})\n",
    "  AnswerAction({ slide = \"4\"; correct = false})\n",
    "  FailureAction\n",
    "]"
   ]
  },
  {
   "cell_type": "code",
   "execution_count": 2,
   "metadata": {},
   "outputs": [],
   "source": [
    "open System\n",
    "\n",
    "type State = {\n",
    "  success: bool\n",
    "  slides: string list\n",
    "  slideCounter: int\n",
    "  stars: int\n",
    "  lives: int\n",
    "}\n",
    "\n",
    "let mapping action =\n",
    "  match action with\n",
    "  | AnswerAction {slide = slide; correct = correct} ->\n",
    "    {\n",
    "      success = false\n",
    "      slides = [slide]\n",
    "      slideCounter = 1\n",
    "      lives = if correct then 0 else -1\n",
    "      stars = if correct then 4 else 0\n",
    "    }\n",
    "  | SuccessAction ->\n",
    "    {\n",
    "      success = true\n",
    "      slides = []\n",
    "      slideCounter = 0\n",
    "      lives = 0\n",
    "      stars = 0\n",
    "    }\n",
    "  | FailureAction ->\n",
    "    {\n",
    "      success = false\n",
    "      slides = []\n",
    "      slideCounter = 0\n",
    "      lives = 0\n",
    "      stars = 0\n",
    "    }"
   ]
  },
  {
   "cell_type": "code",
   "execution_count": 3,
   "metadata": {},
   "outputs": [],
   "source": [
    "let idElement = {\n",
    "  success = false\n",
    "  slides = []\n",
    "  slideCounter = 0\n",
    "  lives = 0\n",
    "  stars = 0\n",
    "}\n",
    "\n",
    "let folder a b = {\n",
    "  success = a.success || b.success\n",
    "  slides = a.slides @ b.slides\n",
    "  slideCounter = a.slideCounter + a.slideCounter\n",
    "  lives = a.lives + b.lives\n",
    "  stars = a.stars + b.stars\n",
    "}"
   ]
  },
  {
   "cell_type": "code",
   "execution_count": 4,
   "metadata": {},
   "outputs": [
    {
     "data": {
      "text/plain": [
       "{success = true;\n",
       " slides = [\"2\"; \"3\"];\n",
       " slideCounter = 0;\n",
       " stars = 4;\n",
       " lives = -1;}"
      ]
     },
     "execution_count": 4,
     "metadata": {},
     "output_type": "execute_result"
    }
   ],
   "source": [
    "successfulProgression\n",
    "|> List.map mapping\n",
    "|> List.fold folder idElement"
   ]
  },
  {
   "cell_type": "code",
   "execution_count": 5,
   "metadata": {},
   "outputs": [
    {
     "data": {
      "text/plain": [
       "{success = false;\n",
       " slides = [\"2\"; \"4\"];\n",
       " slideCounter = 0;\n",
       " stars = 0;\n",
       " lives = -2;}"
      ]
     },
     "execution_count": 5,
     "metadata": {},
     "output_type": "execute_result"
    }
   ],
   "source": [
    "failedProgression\n",
    "|> List.map mapping\n",
    "|> List.fold folder idElement"
   ]
  }
 ],
 "metadata": {
  "kernelspec": {
   "display_name": "F#",
   "language": "fsharp",
   "name": "ifsharp"
  },
  "language": "fsharp",
  "language_info": {
   "codemirror_mode": "",
   "file_extension": ".fs",
   "mimetype": "text/x-fsharp",
   "name": "fsharp",
   "nbconvert_exporter": "",
   "pygments_lexer": "",
   "version": "4.3.1.0"
  }
 },
 "nbformat": 4,
 "nbformat_minor": 2
}
