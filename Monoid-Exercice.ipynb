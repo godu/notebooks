{
 "cells": [
  {
   "cell_type": "markdown",
   "metadata": {},
   "source": [
    "# Exercice"
   ]
  },
  {
   "cell_type": "code",
   "execution_count": 46,
   "metadata": {},
   "outputs": [],
   "source": [
    "type AnswerAction = { slide: string; correct: bool }\n",
    "type Action =\n",
    "  | InitialAction\n",
    "  | AnswerAction of AnswerAction\n",
    "  | SuccessAction\n",
    "  | FailureAction\n",
    "  \n",
    "let successfulProgression = [\n",
    "  InitialAction\n",
    "  AnswerAction({ slide = \"2\"; correct = false})\n",
    "  AnswerAction({ slide = \"3\"; correct = true})\n",
    "  SuccessAction\n",
    "]\n",
    "\n",
    "let failedProgression = [\n",
    "  InitialAction\n",
    "  AnswerAction({ slide = \"2\"; correct = false})\n",
    "  AnswerAction({ slide = \"4\"; correct = false})\n",
    "  FailureAction\n",
    "]"
   ]
  },
  {
   "cell_type": "code",
   "execution_count": 47,
   "metadata": {},
   "outputs": [],
   "source": [
    "type State = {\n",
    "  success: bool\n",
    "  // slides\n",
    "  // slideCounter\n",
    "  // lives\n",
    "  // stars\n",
    "}\n",
    "\n",
    "let mapping action =\n",
    "  match action with\n",
    "  | InitialAction ->\n",
    "    {\n",
    "      success = false\n",
    "    }\n",
    "  | AnswerAction {slide = slide; correct = correct} ->\n",
    "    {\n",
    "      success = false\n",
    "    }\n",
    "  | SuccessAction ->\n",
    "    {\n",
    "      success = true\n",
    "    }\n",
    "  | FailureAction ->\n",
    "    {\n",
    "      success = false\n",
    "    }"
   ]
  },
  {
   "cell_type": "code",
   "execution_count": 48,
   "metadata": {},
   "outputs": [],
   "source": [
    "let idElement = {\n",
    "  success = false\n",
    "}\n",
    "\n",
    "let folder a b = {\n",
    "  success = a.success || b.success\n",
    "}"
   ]
  },
  {
   "cell_type": "code",
   "execution_count": 49,
   "metadata": {},
   "outputs": [
    {
     "data": {
      "text/plain": [
       "{success = true;}"
      ]
     },
     "execution_count": 49,
     "metadata": {},
     "output_type": "execute_result"
    }
   ],
   "source": [
    "successfulProgression\n",
    "|> List.map mapping\n",
    "|> List.fold folder idElement"
   ]
  },
  {
   "cell_type": "code",
   "execution_count": 50,
   "metadata": {},
   "outputs": [
    {
     "data": {
      "text/plain": [
       "{success = false;}"
      ]
     },
     "execution_count": 50,
     "metadata": {},
     "output_type": "execute_result"
    }
   ],
   "source": [
    "failedProgression\n",
    "|> List.map mapping\n",
    "|> List.fold folder idElement"
   ]
  }
 ],
 "metadata": {
  "kernelspec": {
   "display_name": "F#",
   "language": "fsharp",
   "name": "ifsharp"
  },
  "language": "fsharp",
  "language_info": {
   "codemirror_mode": "",
   "file_extension": ".fs",
   "mimetype": "text/x-fsharp",
   "name": "fsharp",
   "nbconvert_exporter": "",
   "pygments_lexer": "",
   "version": "4.3.1.0"
  }
 },
 "nbformat": 4,
 "nbformat_minor": 2
}
