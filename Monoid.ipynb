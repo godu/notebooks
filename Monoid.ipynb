{
 "cells": [
  {
   "cell_type": "markdown",
   "metadata": {},
   "source": [
    "# Set"
   ]
  },
  {
   "cell_type": "code",
   "execution_count": 35,
   "metadata": {},
   "outputs": [],
   "source": [
    "type Integer = int\n",
    "type String = string\n",
    "type Boolean = bool\n",
    "type Shape = Circle | Triangle | Square\n",
    "\n",
    "let shapeValues = [Circle; Triangle; Square]"
   ]
  },
  {
   "cell_type": "markdown",
   "metadata": {},
   "source": [
    "# Algebraic structure"
   ]
  },
  {
   "cell_type": "code",
   "execution_count": 36,
   "metadata": {},
   "outputs": [
    {
     "data": {
      "text/plain": [
       "stringGetLengthAS: 3\n"
      ]
     },
     "metadata": {},
     "output_type": "display_data"
    }
   ],
   "source": [
    "type Operation<'T, 'U> = 'T -> 'U\n",
    "type AlgebraicStructure<'T, 'U> = {\n",
    "  operation: Operation<'T, 'U>\n",
    "}\n",
    "\n",
    "let stringGetLengthAS: AlgebraicStructure<String, Integer> = {\n",
    "  operation = String.length\n",
    "}\n",
    "\n",
    "stringGetLengthAS.operation \"foo\"\n",
    "|> printfn \"stringGetLengthAS: %O\""
   ]
  },
  {
   "cell_type": "markdown",
   "metadata": {},
   "source": [
    "# Closed binary operation"
   ]
  },
  {
   "cell_type": "code",
   "execution_count": 37,
   "metadata": {},
   "outputs": [
    {
     "data": {
      "text/plain": [
       "combineShape: Triangle\n"
      ]
     },
     "metadata": {},
     "output_type": "display_data"
    }
   ],
   "source": [
    "type BinaryOperation<'T, 'U> = Operation<'T, 'T -> 'U>\n",
    "type ClosedBinaryOperation<'T> = BinaryOperation<'T, 'T>\n",
    "\n",
    "let (+?): ClosedBinaryOperation<Shape> = fun a b ->\n",
    "  match (a, b) with\n",
    "  | (Circle, Circle) -> Circle\n",
    "  | (Circle, Triangle) -> Triangle\n",
    "  | (Circle, Square) -> Square\n",
    "  | (Triangle, Circle) -> Triangle\n",
    "  | (Triangle, Triangle) -> Square\n",
    "  | (Triangle, Square) -> Circle\n",
    "  | (Square, Circle) -> Square\n",
    "  | (Square, Triangle) -> Circle\n",
    "  | (Square, Square) -> Triangle\n",
    "\n",
    "Circle +? Triangle\n",
    "|> printfn \"combineShape: %O\""
   ]
  },
  {
   "cell_type": "markdown",
   "metadata": {},
   "source": [
    "\n",
    "# Magma"
   ]
  },
  {
   "cell_type": "code",
   "execution_count": 38,
   "metadata": {
    "scrolled": true
   },
   "outputs": [
    {
     "data": {
      "text/plain": [
       "shapeMagma: Circle\n"
      ]
     },
     "metadata": {},
     "output_type": "display_data"
    }
   ],
   "source": [
    "type Magma<'T> = { combine: ClosedBinaryOperation<'T> }\n",
    "\n",
    "let reduceMagma magma values =\n",
    "  List.reduce magma.combine values\n",
    "\n",
    "\n",
    "let shapeMagma: Magma<Shape> = {\n",
    "  combine = (+?)\n",
    "}\n",
    "\n",
    "reduceMagma shapeMagma shapeValues\n",
    "|> printfn \"shapeMagma: %O\""
   ]
  },
  {
   "cell_type": "markdown",
   "metadata": {},
   "source": [
    "# Associative property"
   ]
  },
  {
   "cell_type": "code",
   "execution_count": 39,
   "metadata": {
    "scrolled": true
   },
   "outputs": [
    {
     "data": {
      "text/plain": [
       "[Circle; Circle; Circle]  Square <> Triangle\n",
       "assertAssociativeProperty pickLeft: False\n",
       "assertAssociativeProperty +?: True\n"
      ]
     },
     "metadata": {},
     "output_type": "display_data"
    }
   ],
   "source": [
    "let assertAssociativeProperty combine isEqual values =\n",
    "  List.forall (fun a ->\n",
    "    List.forall (fun b ->\n",
    "      List.forall (fun c ->\n",
    "        if (isEqual (combine (combine a b) c) (combine a (combine b c)))\n",
    "        then\n",
    "          true\n",
    "        else\n",
    "          printfn\n",
    "              \"%O  %O <> %O\"\n",
    "              [a; b; c]\n",
    "              (combine (combine a b) c)\n",
    "              (combine a (combine b c))\n",
    "          false\n",
    "      ) values\n",
    "    ) values\n",
    "  ) values\n",
    "\n",
    "let combineSquareToRight _ = (+?) Square\n",
    "assertAssociativeProperty combineSquareToRight (=) shapeValues\n",
    "|> printfn \"assertAssociativeProperty pickLeft: %O\"\n",
    "assertAssociativeProperty (+?) (=) shapeValues\n",
    "|> printfn \"assertAssociativeProperty +?: %O\""
   ]
  },
  {
   "cell_type": "markdown",
   "metadata": {},
   "source": [
    "# Semigroup"
   ]
  },
  {
   "cell_type": "code",
   "execution_count": 40,
   "metadata": {},
   "outputs": [
    {
     "data": {
      "text/plain": [
       "shapeMagma: set [Triangle]\n"
      ]
     },
     "metadata": {},
     "output_type": "display_data"
    }
   ],
   "source": [
    "type Semigroup<'T> = Magma<'T>\n",
    "\n",
    "let reduceSemigroup semigroup values =\n",
    "  List.reduce semigroup.combine values\n",
    "\n",
    "let listIntersectionMagma: Semigroup<Set<Shape>> = {\n",
    "  combine = Set.intersect\n",
    "}\n",
    "\n",
    "[\n",
    "  Set.ofList [Circle; Triangle]; \n",
    "  Set.ofList [Triangle; Square]\n",
    "]\n",
    "|> reduceSemigroup listIntersectionMagma \n",
    "|> printfn \"shapeMagma: %O\""
   ]
  },
  {
   "cell_type": "markdown",
   "metadata": {},
   "source": [
    "# Identity element"
   ]
  },
  {
   "cell_type": "code",
   "execution_count": 41,
   "metadata": {},
   "outputs": [
    {
     "data": {
      "text/plain": [
       "Triangle\n",
       "assertIdentityElement pickLeft: False\n",
       "assertIdentityElement +?: True\n"
      ]
     },
     "metadata": {},
     "output_type": "display_data"
    }
   ],
   "source": [
    "let assertIdentityElement combine isEqual idElement values =\n",
    "  List.forall (fun a ->\n",
    "    if (isEqual (combine a idElement) a)\n",
    "    then\n",
    "      true\n",
    "    else\n",
    "      printfn\n",
    "          \"%O\"\n",
    "          a\n",
    "      false\n",
    "  ) values\n",
    "\n",
    "let rightPick _ a = a\n",
    "assertIdentityElement rightPick (=) Circle shapeValues\n",
    "|> printfn \"assertIdentityElement pickLeft: %O\"\n",
    "assertIdentityElement (+?) (=) Circle shapeValues\n",
    "|> printfn \"assertIdentityElement +?: %O\""
   ]
  },
  {
   "cell_type": "markdown",
   "metadata": {},
   "source": [
    "# Monoid\n",
    "[A Table of classification](https://fsharpforfunandprofit.com/posts/monoids-without-tears/#a-table-of-classifications)"
   ]
  },
  {
   "cell_type": "code",
   "execution_count": 42,
   "metadata": {
    "scrolled": true
   },
   "outputs": [
    {
     "data": {
      "text/plain": [
       "shapeMonoid: Circle\n"
      ]
     },
     "metadata": {},
     "output_type": "display_data"
    }
   ],
   "source": [
    "type Monoid<'T> = {\n",
    "  combine: 'T -> 'T -> 'T\n",
    "  empty: 'T\n",
    "}\n",
    "\n",
    "let reduceMonoid monoid values =\n",
    "  List.fold monoid.combine monoid.empty values\n",
    "\n",
    "let shapeMonoid: Monoid<Shape> = {\n",
    "  combine = (+?)\n",
    "  empty = Circle\n",
    "}\n",
    "\n",
    "[ Circle; Triangle; Square; ]\n",
    "|> reduceMonoid shapeMonoid\n",
    "|> printfn \"shapeMonoid: %O\""
   ]
  },
  {
   "cell_type": "markdown",
   "metadata": {},
   "source": [
    "## Parallelization"
   ]
  },
  {
   "cell_type": "code",
   "execution_count": 43,
   "metadata": {},
   "outputs": [
    {
     "data": {
      "text/plain": [
       "shapeMonoid: Circle\n"
      ]
     },
     "metadata": {},
     "output_type": "display_data"
    }
   ],
   "source": [
    "open System.Linq\n",
    "\n",
    "let parallelReduceMonoid monoid (values: _[]) =\n",
    "  values.AsParallel().Aggregate(monoid.empty, monoid.combine)\n",
    "\n",
    "[| Circle; Triangle; Square; |]\n",
    "|> parallelReduceMonoid shapeMonoid\n",
    "|> printfn \"shapeMonoid: %O\""
   ]
  }
 ],
 "metadata": {
  "kernelspec": {
   "display_name": "F#",
   "language": "fsharp",
   "name": "ifsharp"
  },
  "language": "fsharp",
  "language_info": {
   "codemirror_mode": "",
   "file_extension": ".fs",
   "mimetype": "text/x-fsharp",
   "name": "fsharp",
   "nbconvert_exporter": "",
   "pygments_lexer": "",
   "version": "4.3.1.0"
  }
 },
 "nbformat": 4,
 "nbformat_minor": 2
}
