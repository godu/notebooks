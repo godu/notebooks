{
 "cells": [
  {
   "cell_type": "markdown",
   "metadata": {},
   "source": [
    "# Set"
   ]
  },
  {
   "cell_type": "code",
   "execution_count": 20,
   "metadata": {},
   "outputs": [],
   "source": [
    "type Integer = int\n",
    "type String = string\n",
    "type Boolean = bool\n",
    "\n",
    "\n",
    "type Shape = Circle | Triangle | Square"
   ]
  },
  {
   "cell_type": "markdown",
   "metadata": {},
   "source": [
    "# Operation"
   ]
  },
  {
   "cell_type": "code",
   "execution_count": 21,
   "metadata": {},
   "outputs": [
    {
     "data": {
      "text/plain": [
       "stringLength: 3\n",
       "integerParse: 100\n",
       "divideBy: Microsoft.FSharp.Core.OptimizedClosures+Invoke@3253[System.Int32,System.Int32,System.Int32]\n"
      ]
     },
     "metadata": {},
     "output_type": "display_data"
    }
   ],
   "source": [
    "type Operation<'T, 'U> = 'T -> 'U\n",
    "\n",
    "let stringLength: Operation<String, Integer> = String.length\n",
    "stringLength \"foo\"\n",
    "|> printfn \"stringLength: %O\"\n",
    "\n",
    "let integerParse: Operation<String, Integer> = Integer.Parse\n",
    "integerParse \"100\"\n",
    "|> printfn \"integerParse: %O\"\n",
    "\n",
    "let divideBy: Operation<Integer, Integer -> Integer> = (/)\n",
    "divideBy 4\n",
    "|> printfn \"divideBy: %O\"\n"
   ]
  },
  {
   "cell_type": "markdown",
   "metadata": {},
   "source": [
    "# Algebraic structure"
   ]
  },
  {
   "cell_type": "code",
   "execution_count": 22,
   "metadata": {},
   "outputs": [
    {
     "data": {
      "text/plain": [
       "stringGetLengthAS: 3\n"
      ]
     },
     "metadata": {},
     "output_type": "display_data"
    }
   ],
   "source": [
    "type AlgebraicStructure<'T, 'U>(operator: 'T -> 'U) = \n",
    "  member this.Apply = operator\n",
    "  \n",
    "\n",
    "let stringLengthAS = new AlgebraicStructure<String, Integer>(String.length)\n",
    "\n",
    "stringLengthAS.Apply \"foo\"\n",
    "|> printfn \"stringGetLengthAS: %O\""
   ]
  },
  {
   "cell_type": "markdown",
   "metadata": {},
   "source": [
    "# Binary Operation"
   ]
  },
  {
   "cell_type": "code",
   "execution_count": 23,
   "metadata": {},
   "outputs": [
    {
     "data": {
      "text/plain": [
       "isEqualString: False\n",
       "split: [b; r]\n"
      ]
     },
     "metadata": {},
     "output_type": "display_data"
    }
   ],
   "source": [
    "open System\n",
    "\n",
    "type BinaryOperation<'T, 'U> = Operation<'T, 'T -> 'U>\n",
    "\n",
    "let isEqualString: BinaryOperation<String, Boolean> = (=)\n",
    "isEqualString \"foo\" \"bar\"\n",
    "|> printfn \"isEqualString: %O\"\n",
    "\n",
    "let split: BinaryOperation<String, String list> = fun a b -> \n",
    "  a.Split([|b|], StringSplitOptions.None) |> Array.toList\n",
    "split \"bar\" \"a\"\n",
    "|> printfn \"split: %O\""
   ]
  },
  {
   "cell_type": "markdown",
   "metadata": {},
   "source": [
    "# Closed operation"
   ]
  },
  {
   "cell_type": "code",
   "execution_count": 24,
   "metadata": {},
   "outputs": [
    {
     "data": {
      "text/plain": [
       "reverseList: [Square; Triangle; Circle]\n",
       "negate: False\n"
      ]
     },
     "metadata": {},
     "output_type": "display_data"
    }
   ],
   "source": [
    "type ClosedOperation<'T> = Operation<'T, 'T>\n",
    "\n",
    "let reverseList: ClosedOperation<List<'T>> = List.rev\n",
    "reverseList [Circle; Triangle; Square]\n",
    "|> printfn \"reverseList: %O\"\n",
    "\n",
    "let negate: ClosedOperation<'T -> Boolean> =\n",
    "  fun f a -> f a |> not\n",
    "(negate (fun _ -> true))()\n",
    "|> printfn \"negate: %O\""
   ]
  },
  {
   "cell_type": "markdown",
   "metadata": {},
   "source": [
    "# Closed binary operation"
   ]
  },
  {
   "cell_type": "code",
   "execution_count": 25,
   "metadata": {},
   "outputs": [
    {
     "data": {
      "text/plain": [
       "subtract: 1\n",
       "subtract: set [Triangle]\n"
      ]
     },
     "metadata": {},
     "output_type": "display_data"
    }
   ],
   "source": [
    "type ClosedBinaryOperation<'T> = BinaryOperation<'T, 'T>\n",
    "// type ClosedBinaryOperation<'T> = Operation<'T, ClosedOperation<'T>>\n",
    "\n",
    "let subtract: ClosedBinaryOperation<Integer> = (-)\n",
    "subtract 3 2\n",
    "|> printfn \"subtract: %O\"\n",
    "\n",
    "let intersect: ClosedBinaryOperation<Set<Shape>> = Set.intersect\n",
    "intersect\n",
    "  (Set.ofList [Circle; Triangle])\n",
    "  (Set.ofList [Triangle; Square])\n",
    "|> printfn \"subtract: %O\""
   ]
  },
  {
   "cell_type": "markdown",
   "metadata": {},
   "source": [
    "\n",
    "# Magma"
   ]
  },
  {
   "cell_type": "code",
   "execution_count": 26,
   "metadata": {
    "scrolled": true
   },
   "outputs": [
    {
     "data": {
      "text/plain": [
       "sumMagma: 3\n",
       "composeMagma: 1\n"
      ]
     },
     "metadata": {},
     "output_type": "display_data"
    }
   ],
   "source": [
    "type Magma<'T>(combine: ClosedBinaryOperation<'T>) = \n",
    "  member this.Combine = combine\n",
    "\n",
    "let sumMagma = new Magma<Integer>((+))\n",
    "sumMagma.Combine 1 2\n",
    "|> printfn \"sumMagma: %O\"\n",
    "\n",
    "let composeMagma = new Magma<Integer -> Integer>((>>))\n",
    "composeMagma.Combine ((+) 1) ((-) 3)\n",
    "|> fun f -> f 1\n",
    "|> printfn \"composeMagma: %O\""
   ]
  },
  {
   "cell_type": "markdown",
   "metadata": {},
   "source": [
    "# Associative property"
   ]
  },
  {
   "cell_type": "code",
   "execution_count": 27,
   "metadata": {
    "scrolled": true
   },
   "outputs": [
    {
     "data": {
      "text/plain": [
       "+: True\n",
       "-: False\n",
       "@: True\n"
      ]
     },
     "metadata": {},
     "output_type": "display_data"
    }
   ],
   "source": [
    "(=)\n",
    "  ((1 + 2) + 3)\n",
    "  (1 + (2 + 3))\n",
    "|> printfn \"+: %O\"\n",
    "\n",
    "(=)\n",
    "  ((1 - 2) - 3)\n",
    "  (1 - (2 - 3))\n",
    "|> printfn \"-: %O\"\n",
    "\n",
    "(=)\n",
    "  (([Circle; Triangle] @ [Square; Circle]) @ [Triangle; Square])\n",
    "  ([Circle; Triangle] @ ([Square; Circle] @ [Triangle; Square]))\n",
    "|> printfn \"@: %O\""
   ]
  },
  {
   "cell_type": "markdown",
   "metadata": {},
   "source": [
    "# Semigroup"
   ]
  },
  {
   "cell_type": "code",
   "execution_count": 28,
   "metadata": {},
   "outputs": [
    {
     "data": {
      "text/plain": [
       "andSemiGroup: False\n",
       "intersectSemiGroup: set [Circle]\n"
      ]
     },
     "metadata": {},
     "output_type": "display_data"
    }
   ],
   "source": [
    "type Semigroup<'T>(combine) =\n",
    "  inherit Magma<'T>(combine)\n",
    "  member this.Reduce (values: 'T list) =\n",
    "      List.reduce this.Combine values\n",
    "\n",
    "let andSemiGroup = new Semigroup<Boolean>((&&))\n",
    "andSemiGroup.Reduce [true; true; true; false]\n",
    "|> printfn \"andSemiGroup: %O\"\n",
    "\n",
    "let intersectSemiGroup = new Semigroup<Set<Shape>>(Set.intersect)\n",
    "intersectSemiGroup.Reduce \n",
    "  ([\n",
    "    Set.ofList [Circle; Triangle;];\n",
    "    Set.ofList [Square; Circle;];\n",
    "    Set.ofList [Circle; Circle;]\n",
    "  ])\n",
    "|> printfn \"intersectSemiGroup: %O\""
   ]
  },
  {
   "cell_type": "markdown",
   "metadata": {},
   "source": [
    "# Identity element"
   ]
  },
  {
   "cell_type": "code",
   "execution_count": 29,
   "metadata": {},
   "outputs": [
    {
     "data": {
      "text/plain": [
       "(+, 0): True\n",
       "(&&, true): True\n",
       "(@, []): True\n"
      ]
     },
     "metadata": {},
     "output_type": "display_data"
    }
   ],
   "source": [
    "(\n",
    "  10 + 0 = 10,\n",
    "  0 + 10 = 10\n",
    ")\n",
    "|> fun (a, b) -> a && b\n",
    "|> printfn \"(+, 0): %O\"\n",
    "\n",
    "(\n",
    "  (false && true) = false,\n",
    "  (true && false) = false\n",
    ")\n",
    "|> fun (a, b) -> a && b\n",
    "|> printfn \"(&&, true): %O\"\n",
    "\n",
    "(\n",
    "  [Circle] @ [] = [Circle],\n",
    "  [] @ [Circle] = [Circle]\n",
    ")\n",
    "|> fun (a, b) -> a && b\n",
    "|> printfn \"(@, []): %O\""
   ]
  },
  {
   "cell_type": "markdown",
   "metadata": {},
   "source": [
    "# Monoid\n",
    "[A Table of classification](https://fsharpforfunandprofit.com/posts/monoids-without-tears/#a-table-of-classifications)"
   ]
  },
  {
   "cell_type": "code",
   "execution_count": 30,
   "metadata": {
    "scrolled": true
   },
   "outputs": [
    {
     "data": {
      "text/plain": [
       "multiplyMonoid: 60\n",
       "maxMonoid: 129\n"
      ]
     },
     "metadata": {},
     "output_type": "display_data"
    }
   ],
   "source": [
    "type Monoid<'T>(combine, empty) =\n",
    "  inherit Semigroup<'T>(combine)\n",
    "  member this.Empty: 'T = empty\n",
    "  member this.Reduce (values: 'T list) =\n",
    "      List.fold this.Combine this.Empty values\n",
    "\n",
    "let multiplyMonoid = new Monoid<Integer>(( * ), 1)\n",
    "multiplyMonoid.Reduce [3; 4; 5]\n",
    "|> printfn \"multiplyMonoid: %O\"\n",
    "\n",
    "let maxMonoid = new Monoid<Integer>(max, Integer.MinValue)\n",
    "maxMonoid.Reduce [129; 123; 92]\n",
    "|> printfn \"maxMonoid: %O\""
   ]
  },
  {
   "cell_type": "markdown",
   "metadata": {},
   "source": [
    "## Parallelization"
   ]
  },
  {
   "cell_type": "code",
   "execution_count": 31,
   "metadata": {},
   "outputs": [
    {
     "data": {
      "text/plain": [
       "addMonoid: 5050\n"
      ]
     },
     "metadata": {},
     "output_type": "display_data"
    }
   ],
   "source": [
    "open System.Linq\n",
    "\n",
    "type ParallelMonoid<'T>(combine, empty) =\n",
    "  inherit Monoid<'T>(combine, empty)\n",
    "  member this.Reduce (values: 'T list) =\n",
    "      values.AsParallel().Aggregate(this.Empty, this.Combine)\n",
    "\n",
    "let addMonoid = new ParallelMonoid<Integer>((+), 0);\n",
    "[1..100]\n",
    "|> addMonoid.Reduce\n",
    "|> printfn \"addMonoid: %O\""
   ]
  },
  {
   "cell_type": "markdown",
   "metadata": {},
   "source": [
    "# Incrementalism"
   ]
  },
  {
   "cell_type": "code",
   "execution_count": 32,
   "metadata": {},
   "outputs": [
    {
     "data": {
      "text/plain": [
       "T1: 3\n",
       "T2: 4\n"
      ]
     },
     "metadata": {},
     "output_type": "display_data"
    }
   ],
   "source": [
    "let t1 = maxMonoid.Reduce [1; 2; 3;]\n",
    "printfn \"T1: %O\" t1\n",
    "\n",
    "maxMonoid.Reduce [t1; 4]\n",
    "|> printfn \"T2: %O\""
   ]
  }
 ],
 "metadata": {
  "kernelspec": {
   "display_name": "F#",
   "language": "fsharp",
   "name": "ifsharp"
  },
  "language": "fsharp",
  "language_info": {
   "codemirror_mode": "",
   "file_extension": ".fs",
   "mimetype": "text/x-fsharp",
   "name": "fsharp",
   "nbconvert_exporter": "",
   "pygments_lexer": "",
   "version": "4.3.1.0"
  }
 },
 "nbformat": 4,
 "nbformat_minor": 2
}
