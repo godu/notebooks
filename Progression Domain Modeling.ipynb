{
 "cells": [
  {
   "cell_type": "markdown",
   "metadata": {},
   "source": [
    "Pour cette exercice, nous allons modeliser l'expérience apprenante lorsqu'il répond à un questionnaire CoorpAcademy.\n",
    "\n",
    "Lors d'un questionnaire, un apprenant **répond à une question**. Cette action est composée de\n",
    "- la **réponse** selectionnée par l'apprenant\n",
    "- la **correction**"
   ]
  },
  {
   "cell_type": "code",
   "execution_count": 99,
   "metadata": {},
   "outputs": [],
   "source": [
    "type Answer = string\n",
    "type Correctness =\n",
    "    | Right\n",
    "    | Wrong\n",
    "\n",
    "type AnswerAction = (* TODO *)"
   ]
  },
  {
   "cell_type": "markdown",
   "metadata": {},
   "source": [
    "À la fin d'un question, l'apprenant gagne des étoiles. Il gagne **4 étoiles** pour chaque **question correctement répondue**."
   ]
  },
  {
   "cell_type": "code",
   "execution_count": 100,
   "metadata": {
    "scrolled": true
   },
   "outputs": [],
   "source": [
    "type Stars = int\n",
    "type UpdateStarsOnAnswer = Stars -> AnswerAction -> Stars\n",
    "\n",
    "let updateStarsOnAnswer:UpdateStarsOnAnswer = \n",
    "    fun stars action ->\n",
    "        match action with\n",
    "        | (_, Wrong) -> stars\n",
    "        (* TODO *)"
   ]
  },
  {
   "cell_type": "markdown",
   "metadata": {},
   "source": [
    "Une bonne réponse doit rapporter **4 étoiles**.\n",
    "Une mauvais réponse doit rapporter **0 étoile**."
   ]
  },
  {
   "cell_type": "code",
   "execution_count": 101,
   "metadata": {},
   "outputs": [
    {
     "data": {
      "text/plain": [
       "Une bonne réponse donne 0 étoile(s)\n"
      ]
     },
     "metadata": {},
     "output_type": "display_data"
    }
   ],
   "source": [
    "let rightAnswerAction = (\"obiwan\", Right)\n",
    "printfn\n",
    "    \"Une bonne réponse donne %d étoile(s)\"\n",
    "    (updateStarsOnAnswer 0 rightAnswerAction)"
   ]
  },
  {
   "cell_type": "code",
   "execution_count": 102,
   "metadata": {},
   "outputs": [
    {
     "data": {
      "text/plain": [
       "Une mauvaise réponse donne 0 étoile(s)\n"
      ]
     },
     "metadata": {},
     "output_type": "display_data"
    }
   ],
   "source": [
    "let wrongAnswerAction = (\"42\", Wrong)\n",
    "printfn\n",
    "    \"Une mauvaise réponse donne %d étoile(s)\"\n",
    "    (updateStarsOnAnswer 0 wrongAnswerAction)"
   ]
  },
  {
   "cell_type": "markdown",
   "metadata": {},
   "source": [
    "Le parcours d'**un apprenant** est representé par **une liste d'action**."
   ]
  },
  {
   "cell_type": "code",
   "execution_count": 126,
   "metadata": {},
   "outputs": [],
   "source": [
    "(* LATER *)"
   ]
  },
  {
   "cell_type": "code",
   "execution_count": 127,
   "metadata": {},
   "outputs": [],
   "source": [
    "type Action =\n",
    "    | AnswerAction of AnswerAction\n",
    "    (* LATER *)\n",
    "\n",
    "type User = string\n",
    "type Actions = Action list\n",
    "type Progression = (* TODO *)"
   ]
  },
  {
   "cell_type": "markdown",
   "metadata": {},
   "source": [
    "Pour un parcours donné, on veut pouvoir calculer rapidement son gain en étoile."
   ]
  },
  {
   "cell_type": "code",
   "execution_count": 130,
   "metadata": {},
   "outputs": [],
   "source": [
    "type StarsReducer = Progression -> Stars\n",
    "let starsReducer:StarsReducer = fun progression ->\n",
    "    let (_, actions) = progression\n",
    "    actions\n",
    "    |> List.fold (\n",
    "        fun stars action ->\n",
    "          match action with\n",
    "          | AnswerAction answerAction ->\n",
    "            updateStarsOnAnswer stars answerAction\n",
    "          (* LATER *)\n",
    "      )\n",
    "      0"
   ]
  },
  {
   "cell_type": "code",
   "execution_count": 131,
   "metadata": {},
   "outputs": [
    {
     "data": {
      "text/plain": [
       "Bob a gagné 0 étoile(s)\n"
      ]
     },
     "metadata": {},
     "output_type": "display_data"
    }
   ],
   "source": [
    "let bob = \"Bob\"\n",
    "let bobProgression: Progression = \n",
    "    bob, \n",
    "    [ \n",
    "        Action.AnswerAction( \"obiwan\", Right ) ;\n",
    "        Action.AnswerAction( \"42\", Wrong ) ;\n",
    "        Action.AnswerAction( \"obiwan\", Right ) ;\n",
    "        Action.AnswerAction( \"42\", Wrong )\n",
    "    ]\n",
    "printfn\n",
    "    \"Bob a gagné %d étoile(s)\"\n",
    "    (starsReducer bobProgression)"
   ]
  },
  {
   "cell_type": "markdown",
   "metadata": {},
   "source": [
    "Un autre moyen de gagner des étoiles est de regarder des ressources pédagogiques. Pour chaque visionnage, l'apprenant est crédité de **2** étoiles."
   ]
  },
  {
   "cell_type": "code",
   "execution_count": 6,
   "metadata": {},
   "outputs": [],
   "source": [
    "type Resource = string\n",
    "type ViewAction = (* TODO *)\n",
    "\n",
    "type UpdateStarsOnView = Stars -> ViewAction -> Stars\n",
    "let updateStarsOnView:UpdateStarsOnView = fun stars _action ->\n",
    "    (* TODO *)"
   ]
  },
  {
   "cell_type": "code",
   "execution_count": 134,
   "metadata": {},
   "outputs": [
    {
     "data": {
      "text/plain": [
       "Regarder une vidéo donne 4 étoile(s)\n"
      ]
     },
     "metadata": {},
     "output_type": "display_data"
    }
   ],
   "source": [
    "let viewAction = \"video\"\n",
    "printfn\n",
    "    \"Regarder une vidéo donne %d étoile(s)\"\n",
    "    (updateStarsOnView 0 viewAction)"
   ]
  },
  {
   "cell_type": "code",
   "execution_count": 135,
   "metadata": {},
   "outputs": [
    {
     "data": {
      "text/plain": [
       "Jon a gagné 4 étoile(s)\n"
      ]
     },
     "metadata": {},
     "output_type": "display_data"
    }
   ],
   "source": [
    "let jon = \"Jon\"\n",
    "let jonProgression: Progression = \n",
    "    jon, \n",
    "    [ \n",
    "        Action.AnswerAction( \"obiwan\", Right ) ;\n",
    "        Action.AnswerAction( \"42\", Wrong ) ;\n",
    "        Action.ViewAction( \"yolo\" )\n",
    "    ]\n",
    "printfn\n",
    "    \"Jon a gagné %d étoile(s)\"\n",
    "    (starsReducer jonProgression)"
   ]
  }
 ],
 "metadata": {
  "kernelspec": {
   "display_name": "F#",
   "language": "fsharp",
   "name": "ifsharp"
  },
  "language": "fsharp",
  "language_info": {
   "codemirror_mode": "",
   "file_extension": ".fs",
   "mimetype": "text/x-fsharp",
   "name": "fsharp",
   "nbconvert_exporter": "",
   "pygments_lexer": "",
   "version": "4.3.1.0"
  }
 },
 "nbformat": 4,
 "nbformat_minor": 2
}
